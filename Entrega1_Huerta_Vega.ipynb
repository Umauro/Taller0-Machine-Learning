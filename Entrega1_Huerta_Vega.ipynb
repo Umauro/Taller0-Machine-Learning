{
  "nbformat": 4,
  "nbformat_minor": 0,
  "metadata": {
    "colab": {
      "name": "Entrega1-Huerta-Vega.ipynb",
      "version": "0.3.2",
      "provenance": [],
      "collapsed_sections": []
    },
    "kernelspec": {
      "display_name": "Python 3",
      "language": "python",
      "name": "python3"
    },
    "accelerator": "GPU"
  },
  "cells": [
    {
      "metadata": {
        "id": "oWj6Em8-xv2K",
        "colab_type": "text"
      },
      "cell_type": "markdown",
      "source": [
        "<img src=\"http://www.exalumnos.usm.cl/wp-content/uploads/2015/06/Isotipo-Negro.gif\" title=\"Title text\" width=\"20%\" height=\"20%\" />\n",
        "\n",
        "\n",
        "<hr style=\"height:2px;border:none\"/>\n",
        "<h1 align='center'> INF-393 Máquinas de Aprendizaje II-2018 </h1>\n",
        "\n",
        "<H3 align='center'> Tarea 0 - Introducción a Máquinas de Aprendizaje </H3>\n",
        "<hr style=\"height:2px;border:none\"/>\n",
        "\n",
        "## Integrantes\n",
        "\n",
        "* Andrés Huerta - 201473544-8 - andres.huerta.14@sansano.usm.cl\n",
        "* Felipe Vega - 201473511-1 - felipe.vega.14@sansano.usm.cl\n",
        "\n",
        "\n",
        "\n",
        "<hr style=\"height:2px;border:none\"/>"
      ]
    },
    {
      "metadata": {
        "id": "TItA0OV7eKuX",
        "colab_type": "code",
        "colab": {
          "base_uri": "https://localhost:8080/",
          "height": 17
        },
        "outputId": "f1b3830d-055f-4353-e07a-7d5950cd13e5"
      },
      "cell_type": "code",
      "source": [
        "from IPython.display import IFrame\n",
        "from IPython.core.display import display, HTML\n",
        "display(HTML(\"<style>.container { width:95% !important; }</style>\"))\n"
      ],
      "execution_count": 15,
      "outputs": [
        {
          "output_type": "display_data",
          "data": {
            "text/html": [
              "<style>.container { width:95% !important; }</style>"
            ],
            "text/plain": [
              "<IPython.core.display.HTML object>"
            ]
          },
          "metadata": {
            "tags": []
          }
        }
      ]
    },
    {
      "metadata": {
        "id": "FdcU85LDzGhm",
        "colab_type": "text"
      },
      "cell_type": "markdown",
      "source": [
        "# 1.- Job Salary Prediction\n",
        "\n",
        "En esta sección de la tarea se predecirá el salario que ofrece un anuncio a partir del texto de dicho anuncio. Para esto se utiliza un dataset propuesto por _**Adzuna**_ en la plataforma _**Kaggle**_ (__[link](https://www.kaggle.com/c/job-salary-prediction)__). \n",
        "\n",
        "<hr style=\"height:2px;border:none\"/>"
      ]
    },
    {
      "metadata": {
        "id": "MjzV3eTN0MkB",
        "colab_type": "text"
      },
      "cell_type": "markdown",
      "source": [
        "> a) Carge los datos *csv* de entrenamiento y cree un conjunto de validación con los últimos 10 mil datos en un dataframe de *pandas*. Describa los datos, apóyese de gráficos ¿Cuántos datos hay en cada conjunto? "
      ]
    },
    {
      "metadata": {
        "id": "kiRgYueQ0hO3",
        "colab_type": "text"
      },
      "cell_type": "markdown",
      "source": [
        "Utilizando la librería _**Pandas**_ se carga el dataset y se separa en dos conjuntos: uno para validación, compuesto de los últimos 10000 registros y el otro para training compuesto de los registros restantes."
      ]
    },
    {
      "metadata": {
        "id": "odC1RKLdTfuU",
        "colab_type": "code",
        "colab": {
          "base_uri": "https://localhost:8080/",
          "height": 411
        },
        "outputId": "6fe73539-43a5-48ef-83dc-2b7e32548415"
      },
      "cell_type": "code",
      "source": [
        "%matplotlib inline\n",
        "import pandas as pd\n",
        "import matplotlib.pyplot as plt\n",
        "import numpy as np\n",
        "\n",
        "#csv desde drive\n",
        "#from google.colab import drive\n",
        "#drive.mount('/content/drive')\n",
        "\n",
        "data = pd.read_csv(\"Train_rev1.csv.xz\")\n",
        "train_data = data.iloc[:-10000]\n",
        "val_data = data.iloc[-10000:]\n",
        "\n",
        "\n",
        "\n",
        "\n"
      ],
      "execution_count": 175,
      "outputs": [
        {
          "output_type": "stream",
          "text": [
            "Go to this URL in a browser: https://accounts.google.com/o/oauth2/auth?client_id=947318989803-6bn6qk8qdgf4n4g3pfee6491hc0brc4i.apps.googleusercontent.com&redirect_uri=urn%3Aietf%3Awg%3Aoauth%3A2.0%3Aoob&scope=email%20https%3A%2F%2Fwww.googleapis.com%2Fauth%2Fdocs.test%20https%3A%2F%2Fwww.googleapis.com%2Fauth%2Fdrive%20https%3A%2F%2Fwww.googleapis.com%2Fauth%2Fdrive.photos.readonly%20https%3A%2F%2Fwww.googleapis.com%2Fauth%2Fpeopleapi.readonly&response_type=code\n",
            "\n",
            "Enter your authorization code:\n",
            "··········\n",
            "Mounted at /content/drive\n",
            "<class 'pandas.core.frame.DataFrame'>\n",
            "RangeIndex: 244768 entries, 0 to 244767\n",
            "Data columns (total 12 columns):\n",
            "Id                    244768 non-null int64\n",
            "Title                 244767 non-null object\n",
            "FullDescription       244768 non-null object\n",
            "LocationRaw           244768 non-null object\n",
            "LocationNormalized    244768 non-null object\n",
            "ContractType          65442 non-null object\n",
            "ContractTime          180863 non-null object\n",
            "Company               212338 non-null object\n",
            "Category              244768 non-null object\n",
            "SalaryRaw             244768 non-null object\n",
            "SalaryNormalized      244768 non-null int64\n",
            "SourceName            244767 non-null object\n",
            "dtypes: int64(2), object(10)\n",
            "memory usage: 22.4+ MB\n"
          ],
          "name": "stdout"
        }
      ]
    },
    {
      "metadata": {
        "id": "b2xg93DN3uSb",
        "colab_type": "text"
      },
      "cell_type": "markdown",
      "source": [
        "Se utiliza la función _head_ de Pandas para ver los primeros 5 registros del dataset. Este cuenta con 12 columnas incluyendo distinta información sobre las ofertas de trabajo."
      ]
    },
    {
      "metadata": {
        "id": "i2dKDmpx3wko",
        "colab_type": "code",
        "colab": {
          "base_uri": "https://localhost:8080/",
          "height": 289
        },
        "outputId": "eca4cc06-e49e-4034-ee79-780a2bac731b"
      },
      "cell_type": "code",
      "source": [
        "data.head()"
      ],
      "execution_count": 187,
      "outputs": [
        {
          "output_type": "execute_result",
          "data": {
            "text/html": [
              "<div>\n",
              "<style scoped>\n",
              "    .dataframe tbody tr th:only-of-type {\n",
              "        vertical-align: middle;\n",
              "    }\n",
              "\n",
              "    .dataframe tbody tr th {\n",
              "        vertical-align: top;\n",
              "    }\n",
              "\n",
              "    .dataframe thead th {\n",
              "        text-align: right;\n",
              "    }\n",
              "</style>\n",
              "<table border=\"1\" class=\"dataframe\">\n",
              "  <thead>\n",
              "    <tr style=\"text-align: right;\">\n",
              "      <th></th>\n",
              "      <th>Id</th>\n",
              "      <th>Title</th>\n",
              "      <th>FullDescription</th>\n",
              "      <th>LocationRaw</th>\n",
              "      <th>LocationNormalized</th>\n",
              "      <th>ContractType</th>\n",
              "      <th>ContractTime</th>\n",
              "      <th>Company</th>\n",
              "      <th>Category</th>\n",
              "      <th>SalaryRaw</th>\n",
              "      <th>SalaryNormalized</th>\n",
              "      <th>SourceName</th>\n",
              "    </tr>\n",
              "  </thead>\n",
              "  <tbody>\n",
              "    <tr>\n",
              "      <th>0</th>\n",
              "      <td>12612628</td>\n",
              "      <td>Engineering Systems Analyst</td>\n",
              "      <td>Engineering Systems Analyst Dorking Surrey Sal...</td>\n",
              "      <td>Dorking, Surrey, Surrey</td>\n",
              "      <td>Dorking</td>\n",
              "      <td>NaN</td>\n",
              "      <td>permanent</td>\n",
              "      <td>Gregory Martin International</td>\n",
              "      <td>Engineering Jobs</td>\n",
              "      <td>20000 - 30000/annum 20-30K</td>\n",
              "      <td>25000</td>\n",
              "      <td>cv-library.co.uk</td>\n",
              "    </tr>\n",
              "    <tr>\n",
              "      <th>1</th>\n",
              "      <td>12612830</td>\n",
              "      <td>Stress Engineer Glasgow</td>\n",
              "      <td>Stress Engineer Glasgow Salary **** to **** We...</td>\n",
              "      <td>Glasgow, Scotland, Scotland</td>\n",
              "      <td>Glasgow</td>\n",
              "      <td>NaN</td>\n",
              "      <td>permanent</td>\n",
              "      <td>Gregory Martin International</td>\n",
              "      <td>Engineering Jobs</td>\n",
              "      <td>25000 - 35000/annum 25-35K</td>\n",
              "      <td>30000</td>\n",
              "      <td>cv-library.co.uk</td>\n",
              "    </tr>\n",
              "    <tr>\n",
              "      <th>2</th>\n",
              "      <td>12612844</td>\n",
              "      <td>Modelling and simulation analyst</td>\n",
              "      <td>Mathematical Modeller / Simulation Analyst / O...</td>\n",
              "      <td>Hampshire, South East, South East</td>\n",
              "      <td>Hampshire</td>\n",
              "      <td>NaN</td>\n",
              "      <td>permanent</td>\n",
              "      <td>Gregory Martin International</td>\n",
              "      <td>Engineering Jobs</td>\n",
              "      <td>20000 - 40000/annum 20-40K</td>\n",
              "      <td>30000</td>\n",
              "      <td>cv-library.co.uk</td>\n",
              "    </tr>\n",
              "    <tr>\n",
              "      <th>3</th>\n",
              "      <td>12613049</td>\n",
              "      <td>Engineering Systems Analyst / Mathematical Mod...</td>\n",
              "      <td>Engineering Systems Analyst / Mathematical Mod...</td>\n",
              "      <td>Surrey, South East, South East</td>\n",
              "      <td>Surrey</td>\n",
              "      <td>NaN</td>\n",
              "      <td>permanent</td>\n",
              "      <td>Gregory Martin International</td>\n",
              "      <td>Engineering Jobs</td>\n",
              "      <td>25000 - 30000/annum 25K-30K negotiable</td>\n",
              "      <td>27500</td>\n",
              "      <td>cv-library.co.uk</td>\n",
              "    </tr>\n",
              "    <tr>\n",
              "      <th>4</th>\n",
              "      <td>12613647</td>\n",
              "      <td>Pioneer, Miser Engineering Systems Analyst</td>\n",
              "      <td>Pioneer, Miser  Engineering Systems Analyst Do...</td>\n",
              "      <td>Surrey, South East, South East</td>\n",
              "      <td>Surrey</td>\n",
              "      <td>NaN</td>\n",
              "      <td>permanent</td>\n",
              "      <td>Gregory Martin International</td>\n",
              "      <td>Engineering Jobs</td>\n",
              "      <td>20000 - 30000/annum 20-30K</td>\n",
              "      <td>25000</td>\n",
              "      <td>cv-library.co.uk</td>\n",
              "    </tr>\n",
              "  </tbody>\n",
              "</table>\n",
              "</div>"
            ],
            "text/plain": [
              "         Id                                              Title  \\\n",
              "0  12612628                        Engineering Systems Analyst   \n",
              "1  12612830                            Stress Engineer Glasgow   \n",
              "2  12612844                   Modelling and simulation analyst   \n",
              "3  12613049  Engineering Systems Analyst / Mathematical Mod...   \n",
              "4  12613647         Pioneer, Miser Engineering Systems Analyst   \n",
              "\n",
              "                                     FullDescription  \\\n",
              "0  Engineering Systems Analyst Dorking Surrey Sal...   \n",
              "1  Stress Engineer Glasgow Salary **** to **** We...   \n",
              "2  Mathematical Modeller / Simulation Analyst / O...   \n",
              "3  Engineering Systems Analyst / Mathematical Mod...   \n",
              "4  Pioneer, Miser  Engineering Systems Analyst Do...   \n",
              "\n",
              "                         LocationRaw LocationNormalized ContractType  \\\n",
              "0            Dorking, Surrey, Surrey            Dorking          NaN   \n",
              "1        Glasgow, Scotland, Scotland            Glasgow          NaN   \n",
              "2  Hampshire, South East, South East          Hampshire          NaN   \n",
              "3     Surrey, South East, South East             Surrey          NaN   \n",
              "4     Surrey, South East, South East             Surrey          NaN   \n",
              "\n",
              "  ContractTime                       Company          Category  \\\n",
              "0    permanent  Gregory Martin International  Engineering Jobs   \n",
              "1    permanent  Gregory Martin International  Engineering Jobs   \n",
              "2    permanent  Gregory Martin International  Engineering Jobs   \n",
              "3    permanent  Gregory Martin International  Engineering Jobs   \n",
              "4    permanent  Gregory Martin International  Engineering Jobs   \n",
              "\n",
              "                                SalaryRaw  SalaryNormalized        SourceName  \n",
              "0              20000 - 30000/annum 20-30K             25000  cv-library.co.uk  \n",
              "1              25000 - 35000/annum 25-35K             30000  cv-library.co.uk  \n",
              "2              20000 - 40000/annum 20-40K             30000  cv-library.co.uk  \n",
              "3  25000 - 30000/annum 25K-30K negotiable             27500  cv-library.co.uk  \n",
              "4              20000 - 30000/annum 20-30K             25000  cv-library.co.uk  "
            ]
          },
          "metadata": {
            "tags": []
          },
          "execution_count": 187
        }
      ]
    },
    {
      "metadata": {
        "id": "0yHf8TqyAGnJ",
        "colab_type": "code",
        "colab": {
          "base_uri": "https://localhost:8080/",
          "height": 306
        },
        "outputId": "1590d8cf-66c5-4c7c-d43a-3cc2794a77fb"
      },
      "cell_type": "code",
      "source": [
        "data.info()"
      ],
      "execution_count": 189,
      "outputs": [
        {
          "output_type": "stream",
          "text": [
            "<class 'pandas.core.frame.DataFrame'>\n",
            "RangeIndex: 244768 entries, 0 to 244767\n",
            "Data columns (total 12 columns):\n",
            "Id                    244768 non-null int64\n",
            "Title                 244767 non-null object\n",
            "FullDescription       244768 non-null object\n",
            "LocationRaw           244768 non-null object\n",
            "LocationNormalized    244768 non-null object\n",
            "ContractType          65442 non-null object\n",
            "ContractTime          180863 non-null object\n",
            "Company               212338 non-null object\n",
            "Category              244768 non-null object\n",
            "SalaryRaw             244768 non-null object\n",
            "SalaryNormalized      244768 non-null int64\n",
            "SourceName            244767 non-null object\n",
            "dtypes: int64(2), object(10)\n",
            "memory usage: 22.4+ MB\n"
          ],
          "name": "stdout"
        }
      ]
    },
    {
      "metadata": {
        "id": "iD7M0JyC3lSK",
        "colab_type": "text"
      },
      "cell_type": "markdown",
      "source": [
        "Se observa que el dataset completo contiene 244768 registros. En este caso se utilizarán las columnas **\"FullDescription\"** como input y **SalaryNormalized** como output. **FullDescription** contiene el texto de la oferta de trabajo y **SalaryNormalized** es el salario anual interpretado por _Adzuna_. Se puede ver que ninguno de los dos campos tiene valores nulos.\n",
        "\n",
        "Como el conjunto de validación está compuesto por los últimos 10000 registros, el conjunto de entrenamiento contiene 234768 datos.\n",
        "\n"
      ]
    },
    {
      "metadata": {
        "id": "txPcjVCc28u0",
        "colab_type": "code",
        "colab": {
          "base_uri": "https://localhost:8080/",
          "height": 173
        },
        "outputId": "cd57c8ef-8e0e-488c-b8b5-748ab1657dc0"
      },
      "cell_type": "code",
      "source": [
        "data.SalaryNormalized.describe()"
      ],
      "execution_count": 2,
      "outputs": [
        {
          "output_type": "execute_result",
          "data": {
            "text/plain": [
              "count    244768.000000\n",
              "mean      34122.577576\n",
              "std       17640.543124\n",
              "min        5000.000000\n",
              "25%       21500.000000\n",
              "50%       30000.000000\n",
              "75%       42500.000000\n",
              "max      200000.000000\n",
              "Name: SalaryNormalized, dtype: float64"
            ]
          },
          "metadata": {
            "tags": []
          },
          "execution_count": 2
        }
      ]
    },
    {
      "metadata": {
        "id": "PcYhGe6w7ryZ",
        "colab_type": "text"
      },
      "cell_type": "markdown",
      "source": [
        "Haciendo uso de la función _describe_ de _Pandas_ se obtienen se obtienen estadísticos para el _SalaryNormalized_. Se puede ver que el máximo valor es de 200000, pero el percentil 75 es de 42500, esto indica que se pueden esperar outliers en el conjunto de datos, sobretodo al considerar que la desviación estándar es de 17640."
      ]
    },
    {
      "metadata": {
        "id": "_ixjuGG_6zfI",
        "colab_type": "code",
        "colab": {
          "base_uri": "https://localhost:8080/",
          "height": 34
        },
        "outputId": "60c76d5a-e7fd-41bf-9137-d0d57f937240"
      },
      "cell_type": "code",
      "source": [
        "data.SalaryNormalized.unique().size"
      ],
      "execution_count": 3,
      "outputs": [
        {
          "output_type": "execute_result",
          "data": {
            "text/plain": [
              "8454"
            ]
          },
          "metadata": {
            "tags": []
          },
          "execution_count": 3
        }
      ]
    },
    {
      "metadata": {
        "id": "ht9P5dgx8uX-",
        "colab_type": "text"
      },
      "cell_type": "markdown",
      "source": [
        "Por otro lado, la cantidad de valores únicos para este campo es de 8454, lo que entrega una idea de la dificultad que tendría enfrentar este problema utilizando un clasificador.\n",
        "\n",
        "Para ver la distribución de estos valores se construye un histograma para el conjunto completo."
      ]
    },
    {
      "metadata": {
        "id": "l8gY3EFq3BjG",
        "colab_type": "code",
        "colab": {
          "base_uri": "https://localhost:8080/",
          "height": 349
        },
        "outputId": "cf40ed20-296b-4a3c-dc4a-65afde449e5f"
      },
      "cell_type": "code",
      "source": [
        "plt.figure(figsize=(10,5))\n",
        "plt.title(\"Histograma SalaryNormalized conjunto completo\")\n",
        "data.SalaryNormalized.hist()\n",
        "plt.xlabel(\"SalaryNormalized\")\n",
        "plt.show()"
      ],
      "execution_count": 4,
      "outputs": [
        {
          "output_type": "display_data",
          "data": {
            "image/png": "[encoded data removed]",
            "text/plain": [
              "<matplotlib.figure.Figure at 0x7ff46ab0e898>"
            ]
          },
          "metadata": {
            "tags": []
          }
        }
      ]
    },
    {
      "metadata": {
        "id": "yWNgZA9U_ZoA",
        "colab_type": "text"
      },
      "cell_type": "markdown",
      "source": [
        "Se observa que la gran mayoria de los salarios anuales se concentran entre los 25000 y los 50000 anuales. Además se cuenta con un sesgo positivo en la distribución de los datos."
      ]
    },
    {
      "metadata": {
        "id": "ljsFstZLTfue",
        "colab_type": "code",
        "colab": {
          "base_uri": "https://localhost:8080/",
          "height": 349
        },
        "outputId": "dfda310d-64cd-4833-c018-b40b4eff9fce"
      },
      "cell_type": "code",
      "source": [
        "plt.figure(figsize=(15,5))\n",
        "plt.subplot(121)\n",
        "plt.title(\"Histograma Salario Normalizado Conjunto Entrenamiento\")\n",
        "train_data.SalaryNormalized.hist()\n",
        "#plt.yticks([0, hist.max()],[0,120000])\n",
        "plt.xlabel(\"Salario Normalizado\")\n",
        "\n",
        "plt.subplot(122)\n",
        "plt.title(\"Histograma Salario Normalizado Conjunto de Validación\")\n",
        "plt.xlabel(\"Salario Normalizado\")\n",
        "val_data.SalaryNormalized.hist()\n",
        "plt.show()"
      ],
      "execution_count": 5,
      "outputs": [
        {
          "output_type": "display_data",
          "data": {
            "image/png": "[encoded data removed]",
            "text/plain": [
              "<matplotlib.figure.Figure at 0x7ff46ab0e7f0>"
            ]
          },
          "metadata": {
            "tags": []
          }
        }
      ]
    },
    {
      "metadata": {
        "id": "zThcEzFATfuj",
        "colab_type": "code",
        "colab": {
          "base_uri": "https://localhost:8080/",
          "height": 355
        },
        "outputId": "ad7057b1-280e-4878-f1b8-cbd80f8f8f13"
      },
      "cell_type": "code",
      "source": [
        "plt.figure(figsize=(10,5))\n",
        "plt.hist([val_data.SalaryNormalized,train_data.SalaryNormalized],stacked=True, label=['Conjunto Validación','Conjunto Entrenamiento'])\n",
        "plt.legend()\n",
        "plt.show()"
      ],
      "execution_count": 6,
      "outputs": [
        {
          "output_type": "stream",
          "text": [
            "/usr/local/lib/python3.6/dist-packages/numpy/core/fromnumeric.py:52: FutureWarning: reshape is deprecated and will raise in a subsequent release. Please use .values.reshape(...) instead\n",
            "  return getattr(obj, method)(*args, **kwds)\n"
          ],
          "name": "stderr"
        },
        {
          "output_type": "display_data",
          "data": {
            "image/png": "[encoded data removed]",
            "text/plain": [
              "<matplotlib.figure.Figure at 0x7ff46d5344a8>"
            ]
          },
          "metadata": {
            "tags": []
          }
        }
      ]
    },
    {
      "metadata": {
        "id": "E95Lv27fTfun",
        "colab_type": "code",
        "colab": {
          "base_uri": "https://localhost:8080/",
          "height": 355
        },
        "outputId": "1643785b-1904-40b6-a540-fdd000177c31"
      },
      "cell_type": "code",
      "source": [
        "plt.figure(figsize=(10,5))\n",
        "plt.boxplot([train_data.SalaryNormalized, val_data.SalaryNormalized])\n",
        "plt.xticks([1, 2], ['Entrenamiento', 'Validación'])\n",
        "#val_data.boxplot(column=\"SalaryNormalized\")\n",
        "#train_data.boxplot(column=\"SalaryNormalized\")\n",
        "plt.show()"
      ],
      "execution_count": 7,
      "outputs": [
        {
          "output_type": "stream",
          "text": [
            "/usr/local/lib/python3.6/dist-packages/numpy/core/fromnumeric.py:52: FutureWarning: reshape is deprecated and will raise in a subsequent release. Please use .values.reshape(...) instead\n",
            "  return getattr(obj, method)(*args, **kwds)\n"
          ],
          "name": "stderr"
        },
        {
          "output_type": "display_data",
          "data": {
            "image/png": "[encoded data removed]",
            "text/plain": [
              "<matplotlib.figure.Figure at 0x7ff46803eda0>"
            ]
          },
          "metadata": {
            "tags": []
          }
        }
      ]
    },
    {
      "metadata": {
        "id": "rERL0xbZBycN",
        "colab_type": "text"
      },
      "cell_type": "markdown",
      "source": [
        "> b) Extraiga los datos de cada conjunto con los que trabajará, el *input* $X$, los textos, y el *output* $y$, los salarios."
      ]
    },
    {
      "metadata": {
        "id": "DPoQqizrTfut",
        "colab_type": "code",
        "colab": {}
      },
      "cell_type": "code",
      "source": [
        "train_sample = train_data.sample(10000)\n",
        "val_sample = val_data.sample(1000)\n",
        "\n",
        "text_validation = val_sample.FullDescription\n",
        "text_train = train_sample.FullDescription\n",
        "salary_validation = val_sample.SalaryNormalized\n",
        "salary_train = train_sample.SalaryNormalized"
      ],
      "execution_count": 0,
      "outputs": []
    },
    {
      "metadata": {
        "id": "-R5kaTxlB6Jb",
        "colab_type": "text"
      },
      "cell_type": "markdown",
      "source": [
        "Debido a la cantidad de datos en cada conjunto se muestrea ambos conjutos para trabajar con datos reducidos. Se separa el input a utilizar para el conjunto de entrenamiento y el de validación, lo mismo se hace para el output esperado para ambos conjuntos."
      ]
    },
    {
      "metadata": {
        "id": "DY0fg_UlHH_j",
        "colab_type": "text"
      },
      "cell_type": "markdown",
      "source": [
        "> c) Realice un pre-procesamiento a los datos brutos de texto para extraer características y generar la representación de los datos de entrada al modelo $\\vec{x}$. Comente sobre lo realizado.\n"
      ]
    },
    {
      "metadata": {
        "id": "dHz_9BLNHSHx",
        "colab_type": "text"
      },
      "cell_type": "markdown",
      "source": [
        "Debido a que el texto a utilizar se obtiene directamente desde el anuncio, este no se encuentra estructurado y menos con una representación vectorial para utilizar como input.\n",
        "\n",
        "Lo primero a realizar para obtener una representación vectorial es reemplazar multiples letras (3 o más) por solo dos para así corregir un posible error de tipeo. \n",
        "\n",
        "Luego, utilizando la librería _**nltk**_ (natural language toolkit) se obtiene un conjunto de _**stopwords**_[1], las cuales corresponden a palabras comunes que en lenguaje, por lo que no aporta mucho al análisis. \n",
        "\n",
        "Para continuar se obtienen tokens (instancia de una palabra) para cada texto, los cuales se pasan a minusculas y se someten a un proceso de _**Lematización**_ [2]. Este es un proceso donde una palabra dada en una flexionada (conjugada, plurales, etc) se obtiene su lema o representante de todas las formas flexionadas de una misma palabra.\n",
        "\n",
        "Finalmente se revisa si los tokens obtenidos luego de la Lematización pertenecen a las stopwords o no, donde en caso de pertenecer se eliminan del texto."
      ]
    },
    {
      "metadata": {
        "id": "WiDUDF7qTfuw",
        "colab_type": "code",
        "colab": {
          "base_uri": "https://localhost:8080/",
          "height": 119
        },
        "outputId": "b5d001da-e557-40fe-8f79-d62ad59a384f"
      },
      "cell_type": "code",
      "source": [
        "# NOTA, Si ya posee los paquetes de nltk, se debe ingresar la letra \"q\" para continuar\n",
        "# con la ejecución\n",
        "\n",
        "import re, time, nltk\n",
        "nltk.download('stopwords')\n",
        "nltk.download('punkt')\n",
        "nltk.download('wordnet')\n",
        "\n",
        "from nltk.corpus import stopwords\n",
        "from nltk import WordNetLemmatizer, word_tokenize\n",
        "from nltk.stem.porter import PorterStemmer\n",
        "\n",
        "def word_extractor1(text):\n",
        "    wordlemmatizer = WordNetLemmatizer()\n",
        "    commonwords = stopwords.words('english')\n",
        "    text = re.sub(r'([a-z])\\1+', r'\\1\\1',text)#substitute multiple letter by two\n",
        "    words = \"\"\n",
        "    wordtokens = [ wordlemmatizer.lemmatize(word.lower())for word in word_tokenize(text) ]\n",
        "    for word in wordtokens:\n",
        "        if word not in commonwords:\n",
        "            words+=\" \"+word\n",
        "    return words\n",
        "\n",
        "#def word_extractor2(text):\n",
        "#    wordstemmer = PorterStemmer()\n",
        "#    commonwords = stopwords.words('english')\n",
        "#    text = re.sub(r'([a-z])\\1+', r'\\1\\1',text)#substitute multiple letter by two\n",
        "#    words = \"\"\n",
        "#    wordtokens = [ wordstemmer.stem(word.lower())for word in word_tokenize(text) ]\n",
        "#    for word in wordtokens:\n",
        "#        if word not in commonwords:\n",
        "#            words+=\" \"+word\n",
        "#    return words\n",
        "\n",
        "#print(word_extractor1(\"Hello mauro, i love sushi\"))\n",
        "#print(word_extractor2(\"Hello mauro, I love sushi\"))"
      ],
      "execution_count": 180,
      "outputs": [
        {
          "output_type": "stream",
          "text": [
            "[nltk_data] Downloading package stopwords to /root/nltk_data...\n",
            "[nltk_data]   Unzipping corpora/stopwords.zip.\n",
            "[nltk_data] Downloading package punkt to /root/nltk_data...\n",
            "[nltk_data]   Unzipping tokenizers/punkt.zip.\n",
            "[nltk_data] Downloading package wordnet to /root/nltk_data...\n",
            "[nltk_data]   Unzipping corpora/wordnet.zip.\n"
          ],
          "name": "stdout"
        }
      ]
    },
    {
      "metadata": {
        "id": "yQmpjI8F2WfG",
        "colab_type": "code",
        "colab": {}
      },
      "cell_type": "code",
      "source": [
        ""
      ],
      "execution_count": 0,
      "outputs": []
    },
    {
      "metadata": {
        "id": "GVMoiNLITfuz",
        "colab_type": "code",
        "colab": {}
      },
      "cell_type": "code",
      "source": [
        "import numpy as np\n",
        "from sklearn.feature_extraction.text import CountVectorizer\n",
        "texts_train1 = [word_extractor1(text) for text in text_train]\n",
        "texts_val1 = [word_extractor1(text) for text in text_validation]\n",
        "#texts_train2 = [word_extractor2(text) for text in text_train]\n",
        "#texts_val2 = [word_extractor2(text) for text in text_validation]"
      ],
      "execution_count": 0,
      "outputs": []
    },
    {
      "metadata": {
        "id": "G6tB5J-ULCnI",
        "colab_type": "text"
      },
      "cell_type": "markdown",
      "source": [
        "Una vez realizado el proceso se genera una representación vectorial para el texto. Para esto se considera un vocabulario de todos los tokens que aparecen en los textos y se cuenta la ocurrencia de cada uno en cada ejemplo. Con esto se pasa a una representación vectorial donde la componente $ x_i $ corresponde al número de ocurrencias de la palabra $i$ del vocabulario en el texto representado. En este caso, la cantidad de ocurrencias se ajusta a 1, por lo que lo que se obtiene es si la palabra está presente en el texto o no."
      ]
    },
    {
      "metadata": {
        "id": "bdanxCi_Tfu1",
        "colab_type": "code",
        "colab": {}
      },
      "cell_type": "code",
      "source": [
        "from sklearn.feature_extraction.text import CountVectorizer\n",
        "vectorizer1 = CountVectorizer(ngram_range=(1, 1), binary='False')\n",
        "vectorizer1.fit(np.asarray(texts_train1))\n",
        "#vectorizer2 = CountVectorizer(ngram_range=(1, 1), binary='False')\n",
        "#vectorizer2.fit(np.asarray(texts_train2))\n",
        "\n",
        "features_train1 = vectorizer1.transform(texts_train1)\n",
        "features_val1 = vectorizer1.transform(texts_val1)\n",
        "#features_train2 = vectorizer1.transform(texts_train2)\n",
        "#features_val2 = vectorizer1.transform(texts_val2)\n",
        "\n",
        "labels_train = np.asarray(salary_train)\n",
        "labels_val = np.asarray(salary_validation)\n",
        "\n"
      ],
      "execution_count": 0,
      "outputs": []
    },
    {
      "metadata": {
        "id": "_2w6ljsANYA2",
        "colab_type": "code",
        "colab": {
          "base_uri": "https://localhost:8080/",
          "height": 34
        },
        "outputId": "1234196d-6056-4efa-cdcc-b8cda3f2004d"
      },
      "cell_type": "code",
      "source": [
        "\n",
        "len(vectorizer1.get_feature_names())"
      ],
      "execution_count": 183,
      "outputs": [
        {
          "output_type": "execute_result",
          "data": {
            "text/plain": [
              "34110"
            ]
          },
          "metadata": {
            "tags": []
          },
          "execution_count": 183
        }
      ]
    },
    {
      "metadata": {
        "id": "3asL9UKHN87P",
        "colab_type": "text"
      },
      "cell_type": "markdown",
      "source": [
        "En este caso se cuenta con un vocabulario de **$\\approx$34110**, lo que indica el número de features/atributos que se utilizarán para predecir el salario anual."
      ]
    },
    {
      "metadata": {
        "id": "LNMYrX7jM0RZ",
        "colab_type": "text"
      },
      "cell_type": "markdown",
      "source": [
        "> d) Intente resolver el problema enfrentándolo como regresión con el modelo de regresión lineal ordinaria en *sklearn*. ¿Qué es lo que hace *fit_intercept=True*? Evalúe la función objetivo (F.O.) utilizada y la métrica de la competencia (*mean absolute error*) en ambos conjuntos generados en el punto a). Comente lo observado."
      ]
    },
    {
      "metadata": {
        "id": "h9GynUaq5X1E",
        "colab_type": "text"
      },
      "cell_type": "markdown",
      "source": [
        "Aprovechando la librería _sklearn_ se entrena un modelo de regresión lineal ordinaria. El parámetro **fit_intercept=True** se utiliza cuando no se sabe si los datos están centrados y hace que el modelo considere un intercepto. \n"
      ]
    },
    {
      "metadata": {
        "id": "K_WQdYKlTfu5",
        "colab_type": "code",
        "colab": {
          "base_uri": "https://localhost:8080/",
          "height": 85
        },
        "outputId": "47870b7d-a28f-4a64-fa0b-3e5f0168b01d"
      },
      "cell_type": "code",
      "source": [
        "from sklearn.linear_model import LinearRegression as LR\n",
        "from sklearn.metrics import mean_absolute_error\n",
        "\n",
        "def do_LINREG(X_train, Y_train, X_val, Y_val):\n",
        "    model = LR(fit_intercept=True, normalize=False)\n",
        "    model.fit(X_train,Y_train)\n",
        "    print(\"FO on train: \", model.score(X_train, Y_train))\n",
        "    print(\"FO on validation: \", model.score(X_val, Y_val))\n",
        "    print(\"MAE on train: \",mean_absolute_error(Y_train, model.predict(X_train)))\n",
        "    print(\"MAE on validation: \",mean_absolute_error(Y_val, model.predict(X_val)))\n",
        "    return model\n",
        "  \n",
        "LinregModel1 = do_LINREG(features_train1, labels_train, features_val1, labels_val)"
      ],
      "execution_count": 184,
      "outputs": [
        {
          "output_type": "stream",
          "text": [
            "FO on train:  0.9997084139248713\n",
            "FO on validation:  -0.6912919228612104\n",
            "MAE on train:  9.659248408830946\n",
            "MAE on validation:  17417.707531193693\n"
          ],
          "name": "stdout"
        }
      ]
    },
    {
      "metadata": {
        "id": "ssShuZAz6bDs",
        "colab_type": "text"
      },
      "cell_type": "markdown",
      "source": [
        "_Sklearn_ utiliza el coeficiente de determinación como función objetivo, el cual indica que tan buena es la predicción del modelo. En este caso, se obtiene un coeficiente de determinación de 0.99 para el conjunto de entrenamiento y -0.69 para el conjunto de validación. Esto indica que existe un alto overfitting para el regresor obtenido. Una posible explicación para este overfitting es la maldición de la dimensionalidad, debido a que el número de atributos/dimensiones ($\\approx$ 34110) es mucho mayor que la cantidad de datos del conjunto de entrenamiento (10000). En el caso del MAE se obtiene una diferencia similar entre los resultados obtenidos por los dos conjuntos.\n",
        "\n",
        "Para mejorar este resultado se cambia el enfoque de regresión a clasificación. Para esto primero se intenta un enfoque basado en el modelo de regresión logístico de _sklearn_, debido a que es un modelo más cercano para los autores. Sin embargo, luego de investigar se decidió utilizar un enfoque basado en SVC (Support Vector Classificator), dados sus resultados para problemas con grandes dimensiones y muchas clases. \n",
        "\n",
        "Este tipo de enfoque considera los ejemplos como puntos en el espacio y genera fronteras para determinar las clases. En este caso se utilizan fronteras del tipo lineal."
      ]
    },
    {
      "metadata": {
        "id": "qdRMlrDI2X55",
        "colab_type": "code",
        "colab": {
          "base_uri": "https://localhost:8080/",
          "height": 51
        },
        "outputId": "5e15b6f5-11c2-4571-d5c2-c982632b4502"
      },
      "cell_type": "code",
      "source": [
        "from sklearn.linear_model import LogisticRegression\n",
        "from sklearn.metrics import mean_absolute_error\n",
        "def do_LOGIT(X_train,Y_train, X_val,Y_val):\n",
        "    model = LogisticRegression()\n",
        "    model = model.fit(X_train, Y_train)\n",
        "    #print(\"Accuracy under training: \",model.score(x,y))\n",
        "    #print(\"Accuracy under validation: \",model.score(xv,yv))\n",
        "    print(\"MAE on train: \",mean_absolute_error(Y_train, model.predict(X_train)))\n",
        "    print(\"MAE on validation: \",mean_absolute_error(Y_val, model.predict(X_val)))\n",
        "    return model\n",
        "\n",
        "logisticModel = do_LOGIT(features_train1, labels_train, features_val1, labels_val)  \n",
        "  "
      ],
      "execution_count": 185,
      "outputs": [
        {
          "output_type": "stream",
          "text": [
            "MAE on train:  10.2134\n",
            "MAE on validation:  10366.391\n"
          ],
          "name": "stdout"
        }
      ]
    },
    {
      "metadata": {
        "id": "9vLRfGZJHIie",
        "colab_type": "code",
        "colab": {
          "base_uri": "https://localhost:8080/",
          "height": 51
        },
        "outputId": "c540fb80-142d-48f7-a28e-175141b3efa9"
      },
      "cell_type": "code",
      "source": [
        "from sklearn.svm import SVC\n",
        "from sklearn.metrics import mean_absolute_error\n",
        "def do_SVC(X_train, Y_train, X_val, Y_val):\n",
        "  model = SVC(kernel='linear')\n",
        "  model.fit(X_train, Y_train)\n",
        "  print(\"MAE on train: \",mean_absolute_error(Y_train, model.predict(X_train)))\n",
        "  print(\"MAE on validation: \",mean_absolute_error(Y_val, model.predict(X_val)))\n",
        "  return model\n",
        "\n",
        "SVC_model = do_SVC(features_train1, labels_train, features_val1, labels_val)"
      ],
      "execution_count": 186,
      "outputs": [
        {
          "output_type": "stream",
          "text": [
            "MAE on train:  11.5034\n",
            "MAE on validation:  9636.472\n"
          ],
          "name": "stdout"
        }
      ]
    },
    {
      "metadata": {
        "id": "CGYfL8yX-jhd",
        "colab_type": "text"
      },
      "cell_type": "markdown",
      "source": [
        "En el caso del regresor logístico se obtiene un MAE de $\\approx$ 10366.391 para el conjunto de validación, lo cual mejora los resultados por el regresor lineal. En el caso de SVC se obtiene un MAE de $\\approx 9636.472$ , mejorando los resultados de los dos modelos anteriores."
      ]
    },
    {
      "metadata": {
        "id": "D5-6VqII_Uzp",
        "colab_type": "text"
      },
      "cell_type": "markdown",
      "source": [
        "<hr style=\"height:2px;border:none\"/>\n",
        "\n",
        "## Linear Regression by hand\n",
        "\n",
        "<hr style=\"height:2px;border:none\"/>"
      ]
    },
    {
      "metadata": {
        "id": "nCkkE50H2c3I",
        "colab_type": "text"
      },
      "cell_type": "markdown",
      "source": [
        "> a) Escriba una función que calcule la función de pérdida, error cuadrático medio (MSE - *mean squared error*), para un dato o para un conjunto de datos.\n",
        "\n",
        "* Función objetivo:\n",
        "$$\n",
        "Loss = \\frac{1}{N} \\sum_i^N ( y_i - \\hat{y}_i )^2\n",
        "$$"
      ]
    },
    {
      "metadata": {
        "id": "5UOjB6ngTfu9",
        "colab_type": "code",
        "colab": {}
      },
      "cell_type": "code",
      "source": [
        "import numpy as np\n",
        "from sklearn.datasets import load_boston\n",
        "from sklearn.preprocessing import StandardScaler\n",
        "from sklearn.utils import resample\n",
        "import random\n",
        "#Función que calcula el MSE, recibe dos arreglos\n",
        "\n",
        "def MSE(y,y_predict):\n",
        "  n = y.size\n",
        "  new_y = np.asarray([(real - predict)**2 for real, predict in zip(y, y_predict)])\n",
        "  return np.sum(new_y)/n\n",
        "\n"
      ],
      "execution_count": 0,
      "outputs": []
    },
    {
      "metadata": {
        "id": "rKeU1zKf2nC4",
        "colab_type": "text"
      },
      "cell_type": "markdown",
      "source": [
        "> b) Escriba una función que calcule el gradiente (derivada) de la función de pérdida anterior, para un dato o para un conjunto de datos. *Escriba explícitamente la derivada (gradiente)*.\n",
        "\n",
        "Se utiliza la derivada de la función objetivo\n",
        "$$\n",
        "\\frac{ \\partial J}{ \\partial \\underline{\\beta}} = 2X^{T}(X\\underline{\\beta} - Y) = 2\\sum_{i = 1}^{N} e^{(i)}\\cdot x^{(i)}\n",
        "$$\n",
        "\n",
        "Y para la versión estocastica:\n",
        "$$\n",
        "\\frac{ \\partial J}{ \\partial \\underline{\\beta}} = \\frac{2n}{B}\\sum_{i^{*} = 1}^{B} e^{(i^{*})}\\cdot x^{(i^{*})}\n",
        "$$"
      ]
    },
    {
      "metadata": {
        "id": "LKwM26n52Lld",
        "colab_type": "code",
        "colab": {}
      },
      "cell_type": "code",
      "source": [
        "#Función que retorna un arreglo de errores basados el MSE\n",
        "def errorArray(y, y_predict):\n",
        "  errors = np.asarray([y2 - y1 for y1, y2 in zip(y, y_predict)])\n",
        "  return errors\n",
        "  \n",
        "def GRD(errors, x, n):  \n",
        "  #Calcular el vector derivada\n",
        "\n",
        "  gradient = np.dot(errors, x)\n",
        "  n_, d = x.shape\n",
        "  gradient = np.dot(2*n/n_, gradient)\n",
        "  return gradient\n",
        "    \n"
      ],
      "execution_count": 0,
      "outputs": []
    },
    {
      "metadata": {
        "id": "7QhHzTMG2v_N",
        "colab_type": "text"
      },
      "cell_type": "markdown",
      "source": [
        "c) Escriba una función que calcule los parámetros de una regresión lineal simple de manera analítica (es decir el mínimo global). \n",
        "\n",
        "Se utiliza la forma analitica equivalente a calcular:\n",
        "$$\n",
        "\\underline{\\beta} = (X^{T}X)^{-1}X^{T}Y\n",
        "$$"
      ]
    },
    {
      "metadata": {
        "id": "RvU3VDX92L2e",
        "colab_type": "code",
        "colab": {}
      },
      "cell_type": "code",
      "source": [
        "def analitic_b(x, y):\n",
        "  #Obtener matriz transpuesta de X\n",
        "  x_t = x.transpose()\n",
        "  beta = np.dot(x_t, x)\n",
        "  beta = np.linalg.inv(beta)\n",
        "  beta = np.dot(beta, x_t)\n",
        "  beta = np.dot(beta, y)\n",
        "  return beta\n",
        "\n"
      ],
      "execution_count": 0,
      "outputs": []
    },
    {
      "metadata": {
        "id": "mxhPVH0f21mg",
        "colab_type": "text"
      },
      "cell_type": "markdown",
      "source": [
        "> d) Ahora escriba un programa que permita entrenar una regresión lineal a través del algoritmo SGD (stochastic gradient descent) mostrado en la ecuación del algoritmo SGD, es decir, que de manera iterativa, vaya tomando un dato a la vez, y actualizando el parámetro $\\beta$ a través del gradiente descendiente de la función de pérdida de la regresión lineal ordinaria, de la pregunta b).\n",
        "\n",
        "El algoritmo consiste en llamar a la función regressionBySDG(), en ella se obtiene una muestra con un tamaño determinado por los parametros de la función, posteriormente se procede a llamar a la función SGD(), la cual retorna la proxima iteración del vector $\\beta$, con las funciones definidas en los items anteriores.\n",
        "\n",
        "El algoritmo repite el mismo procedimiento hasta completar la cantidad de iteraciones determinadas en los parametros de la función."
      ]
    },
    {
      "metadata": {
        "id": "giaS1lCs20f1",
        "colab_type": "code",
        "colab": {}
      },
      "cell_type": "code",
      "source": [
        "def SGD(x, y, b, n_t, n_total):\n",
        "  y_predict = np.dot(x, b)\n",
        "  errors = errorArray(y, y_predict)\n",
        "  gradient = GRD(errors, x, n_total)\n",
        "  gradient = np.dot(n_t, gradient)\n",
        "  return (b - gradient)\n",
        "\n",
        "  \n",
        "def regressionBySDG(x, y, b, n_t, frac_sample = 1.0, num_iter = 1000, MSE_list = []):\n",
        "  #Samplear X\n",
        "  n_total, d = x.shape\n",
        "  #Se elige una muestra para la regresión\n",
        "  x_sample, y_sample = resample(x, y, n_samples=int(frac_sample*n_total))\n",
        "  for i in range(num_iter):\n",
        "    MSE_list.append(MSE(y, np.dot(x, b)))\n",
        "    b = SGD(x_sample, y_sample, b, n_t, n_total)\n",
        "  return b\n",
        "\n"
      ],
      "execution_count": 0,
      "outputs": []
    },
    {
      "metadata": {
        "id": "llIR8Vn_2-f3",
        "colab_type": "text"
      },
      "cell_type": "markdown",
      "source": [
        "> e) Demuestre que sus programas funcionan en un problema de regresión simple. Para esto utilice el dataset **Boston Housing** , disponible a través de la librería __[*sklearn*](http://scikit-learn.org)__, el cual corresponde a el precio de diferentes casas en Boston además de distintas características relevantes respecto al lugar, como por ejemplo el crimen en la ciudad, el número de habitaciones, que tan vieja es, distancia a lugares relevantes, entre otros. Éstas características deben combinarse linealmente para estimar el precio de la casa.\n",
        "<div class=\"alert alert-block alert-info\">Es una buena práctica el normalizar los datos antes de trabajar con el modelo</div>"
      ]
    },
    {
      "metadata": {
        "id": "zNlkRoML20mx",
        "colab_type": "code",
        "colab": {
          "base_uri": "https://localhost:8080/",
          "height": 187
        },
        "outputId": "b5926eef-e4e4-49bd-a1a6-0830ba55c4ac"
      },
      "cell_type": "code",
      "source": [
        "X_train,y_train = load_boston(return_X_y=True)\n",
        "scaler = StandardScaler().fit(X_train)\n",
        "X_train = scaler.transform(X_train)\n",
        "n, d = X_train.shape\n",
        "X_train = np.c_[X_train, np.ones(n)]\n",
        "\n",
        "MSE_ = []\n",
        "beta_inicial = np.zeros(d + 1)\n",
        "\n",
        "b_analitic = analitic_b(X_train, y_train)\n",
        "b = regressionBySDG(X_train, y_train, beta_inicial, 0.00001, frac_sample=1.0, num_iter=1000, MSE_list=MSE_)\n",
        "print(\"B analitico: \", b_analitic)\n",
        "print(\"B SDG:\", b)\n",
        "print(\"MSE ANALITICO: \",MSE(y_train, np.dot(X_train, b_analitic)))\n",
        "print(\"MSE SDG: \",MSE(y_train, np.dot(X_train, b)))"
      ],
      "execution_count": 195,
      "outputs": [
        {
          "output_type": "stream",
          "text": [
            "B analitico:  [-9.20411128e-01  1.08098058e+00  1.42967124e-01  6.82203460e-01\n",
            " -2.06009246e+00  2.67064141e+00  2.11206306e-02 -3.10444805e+00\n",
            "  2.65878654e+00 -2.07589814e+00 -2.06215593e+00  8.56640436e-01\n",
            " -3.74867982e+00  2.25328063e+01]\n",
            "B SDG: [-9.40632565e-01  5.57617024e-01 -3.55289561e-01  7.38874411e-01\n",
            " -1.67488954e+00  2.05227685e+00 -1.84388057e-02 -2.91102426e+00\n",
            "  1.43663262e+00 -6.95854790e-01 -2.05536740e+00  1.16868153e+00\n",
            " -4.03616151e+00  2.22904241e+01]\n",
            "MSE ANALITICO:  21.897779217687496\n",
            "MSE SDG:  22.818826363886263\n"
          ],
          "name": "stdout"
        }
      ]
    },
    {
      "metadata": {
        "id": "TJZ7shX-DgTj",
        "colab_type": "text"
      },
      "cell_type": "markdown",
      "source": [
        "Para los valores asignados por defecto, el algoritmo utilizado presenta un MSE cercano al valor obtenido analiticamente, de esta forma se puede asumir que el algoritmo propuesto funciona."
      ]
    },
    {
      "metadata": {
        "id": "E_H7QQG33Ffs",
        "colab_type": "text"
      },
      "cell_type": "markdown",
      "source": [
        "Para evaluar los resultados, construya un gráfico correspondiente a la función de pérdida utilizada en el entrenamiento *versus* número de iteraciones (**realice 1000 iteraciones**), utilizando sólo el conjunto de entrenamiento (el objetivo de esta sección es familiarizarse con el algoritmo). Además de reportar el tiempo de entrenamiento mediante el algoritmo implementado en c) y d)."
      ]
    },
    {
      "metadata": {
        "id": "teUmrssn20s8",
        "colab_type": "code",
        "colab": {
          "base_uri": "https://localhost:8080/",
          "height": 294
        },
        "outputId": "466e69ba-780c-4616-a4d6-6cf146bce77f"
      },
      "cell_type": "code",
      "source": [
        "import matplotlib.pyplot as plt\n",
        "\n",
        "plt.plot([x for x in range(1000)], MSE_)\n",
        "plt.title(\"MSE en cada iteración\")\n",
        "plt.xlabel(\"Iteraciones\")\n",
        "plt.ylabel(\"MSE\")\n",
        "plt.show()"
      ],
      "execution_count": 196,
      "outputs": [
        {
          "output_type": "display_data",
          "data": {
            "image/png": "[encoded data removed]",
            "text/plain": [
              "<matplotlib.figure.Figure at 0x7fd6969fbb38>"
            ]
          },
          "metadata": {
            "tags": []
          }
        }
      ]
    },
    {
      "metadata": {
        "id": "5GeHWCYOENpQ",
        "colab_type": "text"
      },
      "cell_type": "markdown",
      "source": [
        "Para los valores asignados por defecto se puede ver como el MSE de la solución propuesta $\\beta$ converge hacia el minimo, llegando hasta un MSE inferior a 100 antes de las primeras 200 iteraciones, entre las iteraciones 200 y 300 se comienza a notar un estancamiento, esto podría deberse a que el $\\eta$ elegido no es optimo o por la cantidad de iteraciones."
      ]
    },
    {
      "metadata": {
        "id": "xYp1tfhd3MOD",
        "colab_type": "text"
      },
      "cell_type": "markdown",
      "source": [
        "> e) Varié la tasa de aprendizaje $\\eta \\in [0,1]$ del algoritmo SGD del punto d), compare los resultados entre sí y con la solución óptima encontrada en c). Comente"
      ]
    },
    {
      "metadata": {
        "id": "J-t36I7oM-fb",
        "colab_type": "code",
        "colab": {
          "base_uri": "https://localhost:8080/",
          "height": 362
        },
        "outputId": "0417e9b0-cdbc-421e-a1c5-bdf2414bed52"
      },
      "cell_type": "code",
      "source": [
        "pred_analitic = np.dot(X_train, b_analitic)\n",
        "\n",
        "betas_MSE = []\n",
        "MSE_ana_SGD = []\n",
        "\n",
        "for i in range(3, 9):\n",
        "  n_t = 0.5*(10**(-i))\n",
        "  b = regressionBySDG(X_train, y_train, beta_inicial, n_t, frac_sample=1.0, num_iter=1000)\n",
        "  betas_MSE.append(MSE(y_train, np.dot(X_train, b)))\n",
        "  MSE_ana_SGD.append(MSE(pred_analitic, np.dot(X_train, b)))\n",
        "\n",
        "plt.plot([0.5*10**(-x) for x in range(3, 9)], betas_MSE,'o-')\n",
        "plt.title(\"MSE para distintos ethas\")\n",
        "plt.xlabel(\"Ethas\")\n",
        "plt.ylabel(\"MSE\")\n",
        "plt.show()\n",
        "\n"
      ],
      "execution_count": 203,
      "outputs": [
        {
          "output_type": "stream",
          "text": [
            "/usr/local/lib/python3.6/dist-packages/numpy/core/_methods.py:32: RuntimeWarning: overflow encountered in reduce\n",
            "  return umr_sum(a, axis, dtype, out, keepdims)\n",
            "/usr/local/lib/python3.6/dist-packages/ipykernel_launcher.py:10: RuntimeWarning: overflow encountered in double_scalars\n",
            "  # Remove the CWD from sys.path while we load stuff.\n"
          ],
          "name": "stderr"
        },
        {
          "output_type": "display_data",
          "data": {
            "image/png": "[encoded data removed]",
            "text/plain": [
              "<matplotlib.figure.Figure at 0x7fd69665ccc0>"
            ]
          },
          "metadata": {
            "tags": []
          }
        }
      ]
    },
    {
      "metadata": {
        "id": "UBQOUOPQE_mN",
        "colab_type": "text"
      },
      "cell_type": "markdown",
      "source": [
        "Debido a que se utilizan solo 1000 iteraciones valores para $\\eta$ menores a 0.00001 el algoritmo comienza a presentar un mayor MSA, esto se debe a que el movimiento realizado en cada iteración es muy bajo para presentar un cambio significativo, para valores mayores de $\\eta$, el algoritmo comienza a divergir, los valores no son mostrados debido a que existen problemas de overflow al momento de realizar MSA."
      ]
    },
    {
      "metadata": {
        "id": "DlHNlFkCE8sI",
        "colab_type": "code",
        "colab": {
          "base_uri": "https://localhost:8080/",
          "height": 294
        },
        "outputId": "052fe35e-c8f1-4a30-dd13-e6447bc32287"
      },
      "cell_type": "code",
      "source": [
        "'''plt.plot([0.5*10**(-x) for x in range(3, 9)], MSE_ana_SGD, 'o-')\n",
        "plt.title(\"Diferencia entre MSE analitico y SDG con distintos ethas\")\n",
        "plt.xlabel(\"Ethas\")\n",
        "plt.ylabel(\"Diferencia MSE\")\n",
        "plt.show()\n",
        "'''"
      ],
      "execution_count": 204,
      "outputs": [
        {
          "output_type": "display_data",
          "data": {
            "image/png": "[encoded data removed]",
            "text/plain": [
              "<matplotlib.figure.Figure at 0x7fd6966d7358>"
            ]
          },
          "metadata": {
            "tags": []
          }
        }
      ]
    },
    {
      "metadata": {
        "id": "oR7SUppSE6RZ",
        "colab_type": "text"
      },
      "cell_type": "markdown",
      "source": [
        ""
      ]
    },
    {
      "metadata": {
        "id": "70nJq_zBKq64",
        "colab_type": "text"
      },
      "cell_type": "markdown",
      "source": [
        "## Referencias\n",
        "* [1] https://en.wikipedia.org/wiki/Stop_words\n",
        "* [2] https://en.wikipedia.org/wiki/Lemmatisation "
      ]
    }
  ]
}